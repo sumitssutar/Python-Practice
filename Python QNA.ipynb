{
  "cells": [
    {
      "cell_type": "markdown",
      "metadata": {
        "id": "l0ZzOlyxB-kf"
      },
      "source": [
        "<h1>Python: without numpy or sklearn </h1>"
      ]
    },
    {
      "cell_type": "code",
      "execution_count": null,
      "metadata": {
        "id": "rnssAfpgB-kj",
        "colab": {
          "base_uri": "https://localhost:8080/"
        },
        "outputId": "6c457727-38b8-47c7-be7f-9dfaaf1b54b9"
      },
      "outputs": [
        {
          "output_type": "stream",
          "name": "stdout",
          "text": [
            "[11, 14, 17, 20, 23]\n",
            "[23, 30, 37, 44, 51]\n"
          ]
        }
      ],
      "source": [
        "# Q.1. Print product of two matrices\n",
        "\n",
        "def matrix_mul(A, B):\n",
        "  row_A = len(A)\n",
        "  col_A = len(A[0])\n",
        "  row_B = len(B)\n",
        "  col_B = len(B[0])\n",
        "  if col_A != row_B:\n",
        "        print(\"Matrix multiplication is not possible\")\n",
        "  else:\n",
        "    result = [[0 for _ in range(col_B)] for _ in range(row_A)]\n",
        "    for i in range(row_A):\n",
        "      for j in range(col_B):\n",
        "        for k in range(col_A):\n",
        "          result[i][j] += A[i][k] * B[k][j]\n",
        "\n",
        "  return result\n",
        "\n",
        "# test with one of the given example  \n",
        "A = [[1, 2],\n",
        "     [3, 4]]\n",
        "\n",
        "B = [[1, 2, 3, 4, 5],\n",
        "     [5, 6, 7, 8, 9]]     \n",
        "\n",
        "matrix_mul(A, B)\n",
        "\n",
        "for row in matrix_mul(A, B):\n",
        "  print(row)"
      ]
    },
    {
      "cell_type": "code",
      "source": [
        "# Q.2. Proportional Sampling - Select a number randomly with probability proportional to its magnitude from the given array of n elements\n",
        "\n",
        "from random import uniform\n",
        "\n",
        "def pick_a_number_from_list(A):\n",
        "    total_magnitude = sum(A)\n",
        "    rand_value = uniform(0, total_magnitude)\n",
        "    cumulative_sum = 0\n",
        "\n",
        "    for i, num in enumerate(A):\n",
        "        cumulative_sum += num\n",
        "        if rand_value <= cumulative_sum:\n",
        "            return num\n",
        "\n",
        "    return A[-1]\n",
        "\n",
        "# test with given example\n",
        "A = [0, 5, 27, 6, 13, 28, 100, 45, 10, 79]      \n",
        "\n",
        "def sampling_based_on_magnitude():\n",
        "  for i in range(1, 100):\n",
        "    number = pick_a_number_from_list(A)\n",
        "    print(number)\n",
        "\n",
        "sampling_based_on_magnitude()"
      ],
      "metadata": {
        "colab": {
          "base_uri": "https://localhost:8080/"
        },
        "id": "2oswrAmsMLvZ",
        "outputId": "da521313-6e5b-4dcb-bf7d-dc4ad8c29a98"
      },
      "execution_count": null,
      "outputs": [
        {
          "output_type": "stream",
          "name": "stdout",
          "text": [
            "100\n",
            "5\n",
            "79\n",
            "45\n",
            "100\n",
            "27\n",
            "27\n",
            "27\n",
            "45\n",
            "79\n",
            "45\n",
            "100\n",
            "79\n",
            "79\n",
            "100\n",
            "27\n",
            "100\n",
            "79\n",
            "45\n",
            "10\n",
            "79\n",
            "45\n",
            "100\n",
            "100\n",
            "28\n",
            "28\n",
            "79\n",
            "27\n",
            "27\n",
            "28\n",
            "100\n",
            "6\n",
            "79\n",
            "79\n",
            "100\n",
            "13\n",
            "45\n",
            "13\n",
            "28\n",
            "28\n",
            "27\n",
            "100\n",
            "45\n",
            "100\n",
            "100\n",
            "45\n",
            "27\n",
            "100\n",
            "79\n",
            "100\n",
            "79\n",
            "28\n",
            "5\n",
            "100\n",
            "45\n",
            "27\n",
            "28\n",
            "79\n",
            "5\n",
            "27\n",
            "100\n",
            "28\n",
            "79\n",
            "100\n",
            "100\n",
            "100\n",
            "100\n",
            "79\n",
            "28\n",
            "28\n",
            "45\n",
            "100\n",
            "79\n",
            "100\n",
            "100\n",
            "79\n",
            "27\n",
            "100\n",
            "28\n",
            "28\n",
            "100\n",
            "45\n",
            "27\n",
            "27\n",
            "79\n",
            "28\n",
            "100\n",
            "6\n",
            "100\n",
            "10\n",
            "45\n",
            "100\n",
            "79\n",
            "100\n",
            "13\n",
            "45\n",
            "100\n",
            "100\n",
            "45\n"
          ]
        }
      ]
    },
    {
      "cell_type": "code",
      "source": [
        "# Q.3. Replace the digits in the string with #\n",
        "\n",
        "def replace_digits(string):\n",
        "    count=0\n",
        "    for i in range(len(string)):\n",
        "        if string[i].isdigit():\n",
        "            count=count+1\n",
        "            \n",
        "    if count==0:\n",
        "        return(\"empty string\")\n",
        "    else:\n",
        "        return(count*\"#\")\n",
        "    \n",
        "# test with one of the given example    \n",
        "replace_digits(\"a2b3c4\")"
      ],
      "metadata": {
        "colab": {
          "base_uri": "https://localhost:8080/",
          "height": 36
        },
        "id": "U9x8q1lxpmM1",
        "outputId": "f1e0900e-2229-476c-c91b-1099ff6f362f"
      },
      "execution_count": null,
      "outputs": [
        {
          "output_type": "execute_result",
          "data": {
            "text/plain": [
              "'###'"
            ],
            "application/vnd.google.colaboratory.intrinsic+json": {
              "type": "string"
            }
          },
          "metadata": {},
          "execution_count": 27
        }
      ]
    },
    {
      "cell_type": "code",
      "source": [
        "# Q.4. Students marks dashboard\n",
        "def display_dash_board(students, marks):\n",
        "  marklist = []\n",
        "  for i in range(len(students)):\n",
        "    marklist.append([students[i], marks[i]])\n",
        "  print(\"a.\")  \n",
        "  marklist.sort(key=lambda x: x[1], reverse=True)\n",
        "  for i in range(5):\n",
        "    print(marklist[i][0], marklist[i][1])\n",
        "  print(\" \")\n",
        "  print(\"b.\")\n",
        "  marklist.sort(key=lambda x: x[1])\n",
        "  for i in range(5):\n",
        "    print(marklist[i][0], marklist[i][1])\n",
        "  print(\" \")\n",
        "  print(\"c.\")\n",
        "  for i in range(len(marklist)):\n",
        "    if 25 < marklist[i][1] < 75:\n",
        "      print(marklist[i][0], marklist[i][1])"
      ],
      "metadata": {
        "id": "Llb9OGnd3im0"
      },
      "execution_count": null,
      "outputs": []
    },
    {
      "cell_type": "code",
      "source": [
        "# test with given values\n",
        "Students=['student1','student2','student3','student4','student5','student6','student7','student8','student9','student10'] \n",
        "Marks = [45, 78, 12, 14, 48, 43, 47, 98, 22, 80]\n",
        "\n",
        "display_dash_board(Students, Marks)"
      ],
      "metadata": {
        "colab": {
          "base_uri": "https://localhost:8080/"
        },
        "id": "uY65m5yw3lqa",
        "outputId": "13f4af88-09ad-4c66-ed69-ca2e660b7742"
      },
      "execution_count": null,
      "outputs": [
        {
          "output_type": "stream",
          "name": "stdout",
          "text": [
            "a.\n",
            "student8 98\n",
            "student10 80\n",
            "student2 78\n",
            "student5 48\n",
            "student7 47\n",
            " \n",
            "b.\n",
            "student3 12\n",
            "student4 14\n",
            "student9 22\n",
            "student6 43\n",
            "student1 45\n",
            " \n",
            "c.\n",
            "student6 43\n",
            "student1 45\n",
            "student7 47\n",
            "student5 48\n"
          ]
        }
      ]
    },
    {
      "cell_type": "code",
      "source": [
        "# Q.5 Find the closest points\n",
        "\n",
        "# given\n",
        "S= [(1,2),(3,4),(-1,1),(6,-7),(0, 6),(-5,-8),(-1,-1),(6,0),(1,-1)]\n",
        "P= (3,-4)\n",
        "\n",
        "import math as m\n",
        "\n",
        "def cosine_distance(p1, p2):\n",
        "    x1, y1 = p1\n",
        "    x2, y2 = p2\n",
        "    numerator = (x1 * x2) + (y1 * y2)\n",
        "    denominator = (m.sqrt(x1**2 + y1**2)) * (m.sqrt(x2**2 + y2**2))\n",
        "    distance = m.acos(numerator / denominator)\n",
        "    return distance\n",
        "\n",
        "distances = []\n",
        "for point in S:\n",
        "    distance = cosine_distance(P, point)\n",
        "    distances.append((point, distance))\n",
        "\n",
        "distances.sort(key=lambda x: x[1])\n",
        "closest_points = distances[:5]\n",
        "\n",
        "for point, distance in closest_points:\n",
        "    print(point)"
      ],
      "metadata": {
        "colab": {
          "base_uri": "https://localhost:8080/"
        },
        "id": "1_j7jFP3IX7j",
        "outputId": "1d7432d3-817f-4f0a-9bcf-9f75bcc471ca"
      },
      "execution_count": null,
      "outputs": [
        {
          "output_type": "stream",
          "name": "stdout",
          "text": [
            "(6, -7)\n",
            "(1, -1)\n",
            "(6, 0)\n",
            "(-5, -8)\n",
            "(-1, -1)\n"
          ]
        }
      ]
    },
    {
      "cell_type": "code",
      "source": [
        "# Q.6. Find Which line separates oranges and apples\n",
        "\n",
        "import re\n",
        "\n",
        "def i_am_the_one(Red, Blue, Lines):\n",
        "    for line in Lines:\n",
        "        b_list = [] \n",
        "        r_list = []  \n",
        "        a, b, c = map(float, re.findall(r'[\\d\\.\\-\\+]+', line))\n",
        "        \n",
        "        b_list = [1 if (a * blue_pt[0]) + (b * blue_pt[1]) + c > 0 else 0 for blue_pt in blue]\n",
        "        blue_unique = len(set(b_list))\n",
        "        \n",
        "        r_list = [1 if (a * red_pt[0]) + (b * red_pt[1]) + c > 0 else 0 for red_pt in red]\n",
        "        red_unique = len(set(r_list))\n",
        "        \n",
        "        if blue_unique == 1 and red_unique == 1:\n",
        "            print(\"yes\")\n",
        "        else:\n",
        "            print(\"no\")\n",
        "\n",
        "# given values\n",
        "Red = [(1, 1), (2, 1), (4, 2), (2, 4), (-1, 4)]\n",
        "Blue = [(-2, -1), (-1, -2), (-3, -2), (-3, -1), (1, -3)]\n",
        "Lines = [\"1x+1y+0\", \"1x-1y+0\", \"1x+0y-3\", \"0x+1y-0.5\"]\n",
        "\n",
        "i_am_the_one(Red, Blue, Lines)"
      ],
      "metadata": {
        "colab": {
          "base_uri": "https://localhost:8080/"
        },
        "id": "SX--hs6QO7WI",
        "outputId": "92beb858-14db-4c9c-ae48-210c68cbb1f0"
      },
      "execution_count": null,
      "outputs": [
        {
          "output_type": "stream",
          "name": "stdout",
          "text": [
            "yes\n",
            "no\n",
            "no\n",
            "yes\n"
          ]
        }
      ]
    },
    {
      "cell_type": "code",
      "source": [
        "# Q.7. Filling the missing values in the specified formate\n",
        "\n",
        "def blanks(s):\n",
        "    a = s.split(\",\")\n",
        "    n = len(a)\n",
        "\n",
        "    if a[0] == \"_\":\n",
        "        a[0] = \"0\"\n",
        "\n",
        "    if a[n-1] == \"_\":\n",
        "        a[n-1] = \"0\"\n",
        "\n",
        "    first = int(a[0])\n",
        "    start = 1\n",
        "\n",
        "    for i in range(start, n):\n",
        "        if a[i] != \"_\":\n",
        "            k = i\n",
        "            for j in range(start-1, k+1):\n",
        "                a[j] = (first + int(a[i])) / (k - start + 2)\n",
        "            start = k + 1\n",
        "            first = int(a[k])\n",
        "\n",
        "    return [float(x) for x in a]\n",
        "\n",
        "print(blanks(\"_,_,_,24\"))\n",
        "print(\" \")\n",
        "print(blanks(\"40,_,_,_,60\"))\n",
        "print(\" \")\n",
        "print(blanks(\"80,_,_,_,_\"))\n",
        "print(\" \")\n",
        "print(blanks(\"_,_,30,_,_,_,50,_,_\"))"
      ],
      "metadata": {
        "colab": {
          "base_uri": "https://localhost:8080/"
        },
        "id": "9J8v5DVpVAgz",
        "outputId": "7b544dd3-beac-4989-fd5b-8840194723ab"
      },
      "execution_count": null,
      "outputs": [
        {
          "output_type": "stream",
          "name": "stdout",
          "text": [
            "[6.0, 6.0, 6.0, 6.0]\n",
            " \n",
            "[20.0, 20.0, 20.0, 20.0, 20.0]\n",
            " \n",
            "[16.0, 16.0, 16.0, 16.0, 16.0]\n",
            " \n",
            "[10.0, 10.0, 12.0, 12.0, 12.0, 12.0, 4.0, 4.0, 4.0]\n"
          ]
        }
      ]
    },
    {
      "cell_type": "code",
      "source": [
        "# Q.8. Filling the missing values in the specified formate\n",
        "\n",
        "def compute_conditional_probabilites(A):\n",
        "    f_set = set()\n",
        "    s_set = set()\n",
        "    m = []\n",
        "    mydict1 = {}\n",
        "    mydict2 = {}\n",
        "    \n",
        "    for i in A:\n",
        "        f_set.add(i[0])\n",
        "        s_set.add(i[1])\n",
        "        m.append(i[0] + i[1])\n",
        "    \n",
        "    f = sorted(list(f_set))\n",
        "    s = sorted(list(s_set))\n",
        "    \n",
        "    for i in m:\n",
        "        mydict1[i] = 0\n",
        "    \n",
        "    for i in s:\n",
        "        mydict2[i] = 0\n",
        "    \n",
        "    for i in range(len(A)):\n",
        "        k = A[i][0] + A[i][1]\n",
        "        mydict1[k] += 1\n",
        "        mydict2[A[i][1]] += 1\n",
        "    \n",
        "    for i in f:\n",
        "        for j in s:\n",
        "            key = i + j\n",
        "            probability = mydict1.get(key, 0) / mydict2.get(j, 1)\n",
        "            print(\"Probability of P(F=%s|S=%s) = %.2f\" % (i, j, probability))\n",
        "            print(\" \")\n",
        "            \n",
        "A = [['F1', 'S1'], ['F2', 'S2'], ['F3', 'S3'], ['F1', 'S2'], ['F2', 'S3'], ['F3', 'S2'], ['F2', 'S1'], ['F4', 'S1'], ['F4', 'S3'], ['F5', 'S1']]\n",
        "compute_conditional_probabilites(A)"
      ],
      "metadata": {
        "colab": {
          "base_uri": "https://localhost:8080/"
        },
        "id": "oLMfGOihbOA-",
        "outputId": "42e0a81a-123d-4c63-b5f3-8d8656f597d8"
      },
      "execution_count": null,
      "outputs": [
        {
          "output_type": "stream",
          "name": "stdout",
          "text": [
            "Probability of P(F=F1|S=S1) = 0.25\n",
            " \n",
            "Probability of P(F=F1|S=S2) = 0.33\n",
            " \n",
            "Probability of P(F=F1|S=S3) = 0.00\n",
            " \n",
            "Probability of P(F=F2|S=S1) = 0.25\n",
            " \n",
            "Probability of P(F=F2|S=S2) = 0.33\n",
            " \n",
            "Probability of P(F=F2|S=S3) = 0.33\n",
            " \n",
            "Probability of P(F=F3|S=S1) = 0.00\n",
            " \n",
            "Probability of P(F=F3|S=S2) = 0.33\n",
            " \n",
            "Probability of P(F=F3|S=S3) = 0.33\n",
            " \n",
            "Probability of P(F=F4|S=S1) = 0.25\n",
            " \n",
            "Probability of P(F=F4|S=S2) = 0.00\n",
            " \n",
            "Probability of P(F=F4|S=S3) = 0.33\n",
            " \n",
            "Probability of P(F=F5|S=S1) = 0.25\n",
            " \n",
            "Probability of P(F=F5|S=S2) = 0.00\n",
            " \n",
            "Probability of P(F=F5|S=S3) = 0.00\n",
            " \n"
          ]
        }
      ]
    },
    {
      "cell_type": "code",
      "source": [
        "# Q.9. from Given two sentances S1, S2\n",
        "# find\n",
        "# a. Number of common words between S1, S2\n",
        "# b. Words in S1 but not in S2\n",
        "# c. Words in S2 but not in S1\n",
        "\n",
        "def string_features(S1, S2):\n",
        "    words_S1 = S1.split()\n",
        "    words_S2 = S2.split()\n",
        "\n",
        "    common_words = set(words_S1) & set(words_S2)\n",
        "    words_only_in_S1 = [word for word in words_S1 if word not in words_S2]\n",
        "    words_only_in_S2 = [word for word in words_S2 if word not in words_S1]\n",
        "\n",
        "    return len(common_words), words_only_in_S1, words_only_in_S2\n",
        "\n",
        "S1 = \"the first column F will contain only 5 unique values\"\n",
        "S2 = \"the second column S will contain only 3 unique values\"\n",
        "a, b, c = string_features(S1, S2)\n",
        "\n",
        "print(\"a.\", a)\n",
        "print(\"b.\", b)\n",
        "print(\"c.\", c)\n"
      ],
      "metadata": {
        "colab": {
          "base_uri": "https://localhost:8080/"
        },
        "id": "CGvIp6MgjVL-",
        "outputId": "c2e96873-d628-4888-a805-075dc157c3c6"
      },
      "execution_count": null,
      "outputs": [
        {
          "output_type": "stream",
          "name": "stdout",
          "text": [
            "a. 7\n",
            "b. ['first', 'F', '5']\n",
            "c. ['second', 'S', '3']\n"
          ]
        }
      ]
    },
    {
      "cell_type": "code",
      "source": [
        "# Q.10. Given two sentances S1, S2\n",
        "# find loss\n",
        "\n",
        "import math as m\n",
        "\n",
        "def compute_log_loss(A):\n",
        "    n = len(A) \n",
        "    loss = 0.0\n",
        "\n",
        "    for Y, Yscore in A:\n",
        "        loss += Y * m.log10(Yscore) + (1 - Y) * m.log10(1 - Yscore)\n",
        "\n",
        "    loss = -1 * (loss / n)\n",
        "\n",
        "    return loss\n",
        "\n",
        "A = [[1, 0.4], [0, 0.5], [0, 0.9], [0, 0.3], [0, 0.6], [1, 0.1], [1, 0.9], [1, 0.8]]\n",
        "loss = compute_log_loss(A)\n",
        "print(loss)"
      ],
      "metadata": {
        "colab": {
          "base_uri": "https://localhost:8080/"
        },
        "id": "NpKJoL2Nlxaz",
        "outputId": "cc484df3-b97a-4def-d55d-27266d839831"
      },
      "execution_count": null,
      "outputs": [
        {
          "output_type": "stream",
          "name": "stdout",
          "text": [
            "0.42430993457031635\n"
          ]
        }
      ]
    }
  ],
  "metadata": {
    "colab": {
      "provenance": []
    },
    "kernelspec": {
      "display_name": "Python 3",
      "language": "python",
      "name": "python3"
    },
    "language_info": {
      "codemirror_mode": {
        "name": "ipython",
        "version": 3
      },
      "file_extension": ".py",
      "mimetype": "text/x-python",
      "name": "python",
      "nbconvert_exporter": "python",
      "pygments_lexer": "ipython3",
      "version": "3.6.3"
    }
  },
  "nbformat": 4,
  "nbformat_minor": 0
}