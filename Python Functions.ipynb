{
  "nbformat": 4,
  "nbformat_minor": 0,
  "metadata": {
    "colab": {
      "provenance": []
    },
    "kernelspec": {
      "name": "python3",
      "display_name": "Python 3"
    },
    "language_info": {
      "name": "python"
    }
  },
  "cells": [
    {
      "cell_type": "markdown",
      "source": [
        "**Assignment No.1.**"
      ],
      "metadata": {
        "id": "H3fuzuFAYuQH"
      }
    },
    {
      "cell_type": "code",
      "source": [
        "# Question 1.\n",
        "\n",
        "def multiplication_table(n):\n",
        "  \"\"\"\n",
        "  this function prints multiplication table of given number\n",
        "  \"\"\"\n",
        "  for i in range(1,11):\n",
        "    print(n,'*',i,'=',n*i)\n",
        "\n",
        "n=int(input(\"Enter a number: \"))\n",
        "print(\"The multiplication table of {0} is below\".format(n))\n",
        "\n",
        "multiplication_table(n)"
      ],
      "metadata": {
        "colab": {
          "base_uri": "https://localhost:8080/"
        },
        "id": "FiQicga_cn8-",
        "outputId": "d6638d95-56ba-40b8-8157-6a3eb59c0c17"
      },
      "execution_count": null,
      "outputs": [
        {
          "output_type": "stream",
          "name": "stdout",
          "text": [
            "Enter a number: 6\n",
            "The multiplication table of 6 is below\n",
            "6 * 1 = 6\n",
            "6 * 2 = 12\n",
            "6 * 3 = 18\n",
            "6 * 4 = 24\n",
            "6 * 5 = 30\n",
            "6 * 6 = 36\n",
            "6 * 7 = 42\n",
            "6 * 8 = 48\n",
            "6 * 9 = 54\n",
            "6 * 10 = 60\n"
          ]
        }
      ]
    },
    {
      "cell_type": "code",
      "source": [
        "# Question 2.\n",
        "\n",
        "def prime(n):\n",
        "   for i in range(2, n):\n",
        "      if n % i == 0:\n",
        "         return False\n",
        "   return True\n",
        "\n",
        "def twin_primes(start, end):\n",
        "   for i in range(start, end):\n",
        "      j = i + 2\n",
        "      if(prime(i) and prime(j)):\n",
        "         print(\"{0} and {1}\".format(i, j))\n",
        "\n",
        "print(\"twin primes less than 1000 are :\")\n",
        "twin_primes(2,1000)"
      ],
      "metadata": {
        "colab": {
          "base_uri": "https://localhost:8080/"
        },
        "id": "cPxIQCdDeNva",
        "outputId": "f5cd13ab-c92e-46be-c8d1-c1bbfd36562e"
      },
      "execution_count": null,
      "outputs": [
        {
          "output_type": "stream",
          "name": "stdout",
          "text": [
            "twin primes less than 1000 are :\n",
            "3 and 5\n",
            "5 and 7\n",
            "11 and 13\n",
            "17 and 19\n",
            "29 and 31\n",
            "41 and 43\n",
            "59 and 61\n",
            "71 and 73\n",
            "101 and 103\n",
            "107 and 109\n",
            "137 and 139\n",
            "149 and 151\n",
            "179 and 181\n",
            "191 and 193\n",
            "197 and 199\n",
            "227 and 229\n",
            "239 and 241\n",
            "269 and 271\n",
            "281 and 283\n",
            "311 and 313\n",
            "347 and 349\n",
            "419 and 421\n",
            "431 and 433\n",
            "461 and 463\n",
            "521 and 523\n",
            "569 and 571\n",
            "599 and 601\n",
            "617 and 619\n",
            "641 and 643\n",
            "659 and 661\n",
            "809 and 811\n",
            "821 and 823\n",
            "827 and 829\n",
            "857 and 859\n",
            "881 and 883\n"
          ]
        }
      ]
    },
    {
      "cell_type": "code",
      "source": [
        "# Question 3.\n",
        "\n",
        "n = int(input(\"Enter a number : \"))\n",
        "print(\"Prime factors are\")\n",
        "i=2\n",
        "while (n != 1):\n",
        "\tif (not n%i):\n",
        "\t\tn /= i\n",
        "\t\tprint(i)\n",
        "\telse:\n",
        "\t\ti += 1"
      ],
      "metadata": {
        "id": "JgXBhHTPfBuU",
        "colab": {
          "base_uri": "https://localhost:8080/"
        },
        "outputId": "d4bab447-373e-4280-9a26-601b3b54e54e"
      },
      "execution_count": null,
      "outputs": [
        {
          "output_type": "stream",
          "name": "stdout",
          "text": [
            "Enter a number : 56\n",
            "Prime factors are\n",
            "2\n",
            "2\n",
            "2\n",
            "7\n"
          ]
        }
      ]
    },
    {
      "cell_type": "code",
      "source": [
        "# Question 4.\n",
        "\n",
        "# factorial\n",
        "def fact(a):\n",
        "  if a==0:\n",
        "    return 1\n",
        "  else:\n",
        "    return a * fact(a-1) \n",
        "\n",
        "# Permutation and Combination\n",
        "def permutation(n,r):\n",
        "  n1 = fact(n)\n",
        "  r1 = n-r\n",
        "  r2 = fact(r1)\n",
        "  per = 1\n",
        "  per = n1/r2\n",
        "  com = 1\n",
        "  com = per/fact(r)\n",
        "  print(per)\n",
        "  print(com)\n",
        "\n",
        "n = int(input(\"Enter the value of n: \"))\n",
        "r = int(input(\"Enter the value of r: \"))\n",
        "\n",
        "permutation(n,r)\n"
      ],
      "metadata": {
        "id": "4YA3m_OuDza6",
        "colab": {
          "base_uri": "https://localhost:8080/"
        },
        "outputId": "987c5e30-83a8-4b7e-f828-acccca45b20c"
      },
      "execution_count": null,
      "outputs": [
        {
          "output_type": "stream",
          "name": "stdout",
          "text": [
            "Enter the value of n: 1\n",
            "Enter the value of r: 0\n",
            "1.0\n",
            "1.0\n"
          ]
        }
      ]
    },
    {
      "cell_type": "code",
      "source": [
        "# Question 5.\n",
        "\n",
        "def binary(a):\n",
        "  decimal=bin(a)\n",
        "  print(decimal[2:])\n",
        "\n",
        "a = int(input(\"Enter decimal number: \"))\n",
        "print(\"Decimal number for given binary number is: \")\n",
        "binary(a)"
      ],
      "metadata": {
        "colab": {
          "base_uri": "https://localhost:8080/"
        },
        "id": "1cB5PN0aI4Gz",
        "outputId": "dd748f0e-22b4-4462-bd7a-ed3ce965c7c8"
      },
      "execution_count": null,
      "outputs": [
        {
          "output_type": "stream",
          "name": "stdout",
          "text": [
            "Enter decimal number: 6\n",
            "Decimal number for given binary number is: \n",
            "110\n"
          ]
        }
      ]
    },
    {
      "cell_type": "code",
      "source": [
        "# Question 6.\n",
        "\n",
        "def cubesum(num):\n",
        "  sum = 0\n",
        "  while num > 0:\n",
        "    digit = num % 10\n",
        "    sum += digit ** 3\n",
        "    num //= 10\n",
        "  return sum\n",
        "#check\n",
        "print(\"Cubesum of given number is :\")\n",
        "print(cubesum(56))\n",
        "\n",
        "def isArmstrong(num):\n",
        "  return num == cubesum(num)\n",
        "#check\n",
        "print(\"Given number is Armstrong or not :\")  \n",
        "print(isArmstrong(153))\n",
        "\n",
        "def PrintArmstrong(lower,upper):\n",
        "  for num in range(lower,upper + 1):\n",
        "    if isArmstrong(num):\n",
        "      print(num)\n",
        "#check\n",
        "print(\"Armstrong numbers between selected range are below :\")\n",
        "PrintArmstrong(100,1000)"
      ],
      "metadata": {
        "colab": {
          "base_uri": "https://localhost:8080/"
        },
        "id": "nlIhhMyTQlrC",
        "outputId": "c9ec6934-824b-4c3a-ab1d-c5dae58aee55"
      },
      "execution_count": null,
      "outputs": [
        {
          "output_type": "stream",
          "name": "stdout",
          "text": [
            "Cubesum of given number is :\n",
            "341\n",
            "Given number is Armstrong or not :\n",
            "True\n",
            "Armstrong numbers between selected range are below :\n",
            "153\n",
            "370\n",
            "371\n",
            "407\n"
          ]
        }
      ]
    },
    {
      "cell_type": "code",
      "source": [
        "# Question 7.\n",
        "\n",
        "# product of digits of number\n",
        "def prodDigits(n):\n",
        "  product = 1\n",
        "  for digit in str(n):\n",
        "    product *= int(digit)\n",
        "  return product\n",
        "\n",
        "prodDigits(568)     \n"
      ],
      "metadata": {
        "id": "qC03NYa7eFpb",
        "colab": {
          "base_uri": "https://localhost:8080/"
        },
        "outputId": "561a1e9a-9a43-4b39-a2c4-d4dcfa3ee5fc"
      },
      "execution_count": null,
      "outputs": [
        {
          "output_type": "execute_result",
          "data": {
            "text/plain": [
              "240"
            ]
          },
          "metadata": {},
          "execution_count": 12
        }
      ]
    },
    {
      "cell_type": "code",
      "source": [
        "# Question 8.\n",
        "\n",
        "# multiplicative digital root (MDR) and Multiplicative persistence(MP)\n",
        "\n",
        "def MDR(n):\n",
        "  while n >= 10:\n",
        "    n = prodDigits(n)\n",
        "  return n\n",
        "\n",
        "def MP(n):\n",
        "  P = 0\n",
        "  while n >= 10:\n",
        "    n = prodDigits(n)\n",
        "    P += 1\n",
        "  return P      \n",
        "\n",
        "n = int(input(\"Enter a number: \"))\n",
        "mdr = MDR(n)\n",
        "mp = MP(n)\n",
        "\n",
        "print(\"MDR of {} is {}\".format(n,mdr))\n",
        "print(\"MP of {} is {}\".format(n,mp))\n",
        "\n",
        "\n"
      ],
      "metadata": {
        "colab": {
          "base_uri": "https://localhost:8080/"
        },
        "id": "_5a8jX5Fu73o",
        "outputId": "5e521fa5-c323-44d7-f5f2-323f9e46477c"
      },
      "execution_count": null,
      "outputs": [
        {
          "output_type": "stream",
          "name": "stdout",
          "text": [
            "Enter a number: 86\n",
            "MDR of 86 is 6\n",
            "MP of 86 is 3\n"
          ]
        }
      ]
    },
    {
      "cell_type": "code",
      "source": [
        "# Question 9.\n",
        "\n",
        "def sumPdivisors(num):\n",
        "  for i in range(1,num):\n",
        "    if num % i == 0:\n",
        "      print(i,end=\" \")\n",
        "    else:\n",
        "      pass\n",
        "\n",
        "num = int(input(\"Enter a number: \"))\n",
        "sumPdivisors(num)        "
      ],
      "metadata": {
        "colab": {
          "base_uri": "https://localhost:8080/"
        },
        "id": "JZ4AvszE26Ik",
        "outputId": "018b4762-8769-4b06-f07a-842ea34d67cc"
      },
      "execution_count": null,
      "outputs": [
        {
          "output_type": "stream",
          "name": "stdout",
          "text": [
            "Enter a number: 36\n",
            "1 2 3 4 6 9 12 18 "
          ]
        }
      ]
    },
    {
      "cell_type": "code",
      "source": [
        "# Question 10.\n",
        "\n",
        "def is_perfect(n):\n",
        "  divisors = [i for i in range(1,n) if n % i == 0]\n",
        "  return sum(divisors) == n\n",
        "\n",
        "def perfect_numbers(lower, upper):\n",
        "  for n in range(lower,upper+1):\n",
        "    if is_perfect(n):\n",
        "      print(n)\n",
        "\n",
        "perfect_numbers(1,1000)         "
      ],
      "metadata": {
        "colab": {
          "base_uri": "https://localhost:8080/"
        },
        "id": "PMDTR19QBO7H",
        "outputId": "faaef752-98f6-4d9d-db29-bdac56373ce3"
      },
      "execution_count": null,
      "outputs": [
        {
          "output_type": "stream",
          "name": "stdout",
          "text": [
            "6\n",
            "28\n",
            "496\n"
          ]
        }
      ]
    },
    {
      "cell_type": "code",
      "source": [
        "# Question 11.\n",
        "\n",
        "def sum_proper_divisors(n):\n",
        "  divisors = [i for i in range(1,n) if n % i == 0]\n",
        "  return sum(divisors)\n",
        "\n",
        "print(\"pairs of amicable numbers in a range : \")\n",
        "\n",
        "def find_amicable_numbers(lower,upper):\n",
        "  for n in range(lower,upper+1):\n",
        "    m = sum_proper_divisors(n)\n",
        "    if sum_proper_divisors(m) == n and m != n and m <= upper:\n",
        "      print(\"{} and {}\".format(n,m))\n",
        "\n",
        "find_amicable_numbers(1,10000)\n"
      ],
      "metadata": {
        "colab": {
          "base_uri": "https://localhost:8080/"
        },
        "id": "O0-gfNdpEAaL",
        "outputId": "961432c4-b791-4376-adbe-2d9305f1c578"
      },
      "execution_count": null,
      "outputs": [
        {
          "output_type": "stream",
          "name": "stdout",
          "text": [
            "pairs of amicable numbers in a range : \n",
            "220 and 284\n",
            "284 and 220\n",
            "1184 and 1210\n",
            "1210 and 1184\n",
            "2620 and 2924\n",
            "2924 and 2620\n",
            "5020 and 5564\n",
            "5564 and 5020\n",
            "6232 and 6368\n",
            "6368 and 6232\n"
          ]
        }
      ]
    },
    {
      "cell_type": "code",
      "source": [
        "# Question 12.\n",
        "\n",
        "def filter_odd_numbers(numbers):\n",
        "  return list(filter(lambda x: x % 2 != 0,numbers))\n",
        "\n",
        "numbers = [1,2,3,4,5,6,7,8,9]\n",
        "print(\"Odd numbers : \", filter_odd_numbers(numbers))   "
      ],
      "metadata": {
        "colab": {
          "base_uri": "https://localhost:8080/"
        },
        "id": "PPgIbTxmNMDh",
        "outputId": "568c3f83-b442-4aa7-aba0-41c303c50bb7"
      },
      "execution_count": null,
      "outputs": [
        {
          "output_type": "stream",
          "name": "stdout",
          "text": [
            "Odd numbers :  [1, 3, 5, 7, 9]\n"
          ]
        }
      ]
    },
    {
      "cell_type": "code",
      "source": [
        "# Question 13.\n",
        "\n",
        "def cubed(numbers):\n",
        "  return list(map(lambda x : x ** 3,numbers))\n",
        "\n",
        "numbers = [1,2,3,4,5,6,7,8,9]\n",
        "print(\"cubed_numbers :\",cubed(numbers))"
      ],
      "metadata": {
        "colab": {
          "base_uri": "https://localhost:8080/"
        },
        "id": "CYOBoVCcnE0i",
        "outputId": "3bf8cdbb-e24e-4cc2-bb8c-0df993ed5c7d"
      },
      "execution_count": null,
      "outputs": [
        {
          "output_type": "stream",
          "name": "stdout",
          "text": [
            "cubed_numbers : [1, 8, 27, 64, 125, 216, 343, 512, 729]\n"
          ]
        }
      ]
    },
    {
      "cell_type": "code",
      "source": [
        "# Question 14.\n",
        "\n",
        "def cubes_of_even(numbers):\n",
        "  # filtering even numbers\n",
        "  even_numbers = filter(lambda x : x % 2 == 0, numbers)\n",
        "  # mapping cubes of even numbers\n",
        "  cubes_of_even = map(lambda x : x ** 3, even_numbers)\n",
        "  return list(cubes_of_even)\n",
        "\n",
        "numbers = [1,2,3,4,5,6,7,8,9]\n",
        "print(\"Cubes of even numbers : \", cubes_of_even(numbers))"
      ],
      "metadata": {
        "colab": {
          "base_uri": "https://localhost:8080/"
        },
        "id": "QMqh6wxPtKYJ",
        "outputId": "8a843965-25a9-42e8-8d1a-83d8ce5d1091"
      },
      "execution_count": null,
      "outputs": [
        {
          "output_type": "stream",
          "name": "stdout",
          "text": [
            "Cubes of even numbers :  [8, 64, 216, 512]\n"
          ]
        }
      ]
    }
  ]
}